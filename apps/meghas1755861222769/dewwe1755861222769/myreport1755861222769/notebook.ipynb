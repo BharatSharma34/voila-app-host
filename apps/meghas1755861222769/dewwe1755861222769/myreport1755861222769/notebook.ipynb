{
  "cells": [
    {
      "cell_type": "code",
      "execution_count": null,
      "id": "0c5ad3c7-527b-4eb7-95ca-8682b666dc4e",
      "metadata": {
        "trusted": true
      },
      "outputs": [],
      "source": "print(\"hello\")"
    }
  ],
  "metadata": {
    "kernelspec": {
      "display_name": "Python 3 (ipykernel)",
      "language": "python",
      "name": "python3"
    },
    "language_info": {
      "codemirror_mode": {
        "name": "ipython",
        "version": 3
      },
      "file_extension": ".py",
      "mimetype": "text/x-python",
      "name": "python",
      "nbconvert_exporter": "python",
      "pygments_lexer": "ipython3",
      "version": "3.9.23"
    }
  },
  "nbformat": 4,
  "nbformat_minor": 5
}