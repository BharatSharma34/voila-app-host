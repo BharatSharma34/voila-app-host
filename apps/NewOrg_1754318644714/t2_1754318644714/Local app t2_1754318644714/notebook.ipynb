{
  "cells": [
    {
      "cell_type": "code",
      "execution_count": null,
      "id": "7ea6cbd5-907e-4479-a6ab-357278d43423",
      "metadata": {
        "trusted": true
      },
      "outputs": [],
      "source": "print(\"app for t2\")"
    }
  ],
  "metadata": {
    "kernelspec": {
      "display_name": "Python 3 (ipykernel)",
      "language": "python",
      "name": "python3"
    },
    "language_info": {
      "codemirror_mode": {
        "name": "ipython",
        "version": 3
      },
      "file_extension": ".py",
      "mimetype": "text/x-python",
      "name": "python",
      "nbconvert_exporter": "python",
      "pygments_lexer": "ipython3",
      "version": "3.9.23"
    }
  },
  "nbformat": 4,
  "nbformat_minor": 5
}