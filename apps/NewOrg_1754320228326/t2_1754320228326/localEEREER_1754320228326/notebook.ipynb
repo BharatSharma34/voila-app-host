{
  "cells": [
    {
      "cell_type": "code",
      "execution_count": null,
      "id": "3a661652-ae5b-4418-9859-fddf1adb7722",
      "metadata": {
        "trusted": true
      },
      "outputs": [],
      "source": "print(\"Last app..\")"
    }
  ],
  "metadata": {
    "kernelspec": {
      "display_name": "Python 3 (ipykernel)",
      "language": "python",
      "name": "python3"
    },
    "language_info": {
      "name": "python"
    }
  },
  "nbformat": 4,
  "nbformat_minor": 5
}