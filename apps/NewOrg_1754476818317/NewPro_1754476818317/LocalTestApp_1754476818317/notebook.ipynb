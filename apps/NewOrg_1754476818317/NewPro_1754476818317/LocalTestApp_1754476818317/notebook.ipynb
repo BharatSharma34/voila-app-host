{
  "cells": [
    {
      "cell_type": "code",
      "execution_count": null,
      "id": "92afe5b7-c4ee-4e9e-a5ac-e1af248d31af",
      "metadata": {
        "trusted": true
      },
      "outputs": [],
      "source": "print(\"Hello from my new app.\")"
    }
  ],
  "metadata": {
    "kernelspec": {
      "display_name": "Python 3 (ipykernel)",
      "language": "python",
      "name": "python3"
    },
    "language_info": {
      "codemirror_mode": {
        "name": "ipython",
        "version": 3
      },
      "file_extension": ".py",
      "mimetype": "text/x-python",
      "name": "python",
      "nbconvert_exporter": "python",
      "pygments_lexer": "ipython3",
      "version": "3.9.23"
    }
  },
  "nbformat": 4,
  "nbformat_minor": 5
}