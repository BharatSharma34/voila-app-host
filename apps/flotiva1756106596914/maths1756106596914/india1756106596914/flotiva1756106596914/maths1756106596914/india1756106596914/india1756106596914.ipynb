{
  "cells": [
    {
      "cell_type": "code",
      "execution_count": null,
      "id": "75cb836c-56ad-44ed-baec-82bd872db192",
      "metadata": {
        "trusted": true
      },
      "outputs": [],
      "source": "print(\":hello\")"
    }
  ],
  "metadata": {
    "kernelspec": {
      "display_name": "Python 3 (ipykernel)",
      "language": "python",
      "name": "python3"
    },
    "language_info": {
      "name": "python"
    }
  },
  "nbformat": 4,
  "nbformat_minor": 5
}