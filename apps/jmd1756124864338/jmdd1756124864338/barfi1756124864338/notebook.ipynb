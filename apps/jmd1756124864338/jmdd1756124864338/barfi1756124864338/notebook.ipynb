{
 "cells": [
  {
   "cell_type": "code",
   "execution_count": 1,
   "id": "3c78fdb7-2e35-4f50-b542-5d71217034b9",
   "metadata": {
    "execution": {
     "iopub.execute_input": "2025-08-25T12:42:27.876832Z",
     "iopub.status.busy": "2025-08-25T12:42:27.876455Z",
     "iopub.status.idle": "2025-08-25T12:42:27.882959Z",
     "shell.execute_reply": "2025-08-25T12:42:27.881418Z"
    }
   },
   "outputs": [
    {
     "name": "stdout",
     "output_type": "stream",
     "text": [
      "Hello bharat\n"
     ]
    }
   ],
   "source": [
    "print(\"Hello bharat\")"
   ]
  },
  {
   "cell_type": "code",
   "execution_count": 2,
   "id": "46ac3229-9dcb-4900-9eaa-878f0bafaeb2",
   "metadata": {
    "execution": {
     "iopub.execute_input": "2025-08-25T12:42:27.886312Z",
     "iopub.status.busy": "2025-08-25T12:42:27.885964Z",
     "iopub.status.idle": "2025-08-25T12:42:27.890449Z",
     "shell.execute_reply": "2025-08-25T12:42:27.889478Z"
    }
   },
   "outputs": [
    {
     "name": "stdout",
     "output_type": "stream",
     "text": [
      "hello vicky\n"
     ]
    }
   ],
   "source": [
    "print(\"hello vicky\")"
   ]
  }
 ],
 "metadata": {
  "kernelspec": {
   "display_name": "Python 3 (ipykernel)",
   "language": "python",
   "name": "python3"
  },
  "language_info": {
   "codemirror_mode": {
    "name": "ipython",
    "version": 3
   },
   "file_extension": ".py",
   "mimetype": "text/x-python",
   "name": "python",
   "nbconvert_exporter": "python",
   "pygments_lexer": "ipython3",
   "version": "3.12.3"
  }
 },
 "nbformat": 4,
 "nbformat_minor": 5
}
