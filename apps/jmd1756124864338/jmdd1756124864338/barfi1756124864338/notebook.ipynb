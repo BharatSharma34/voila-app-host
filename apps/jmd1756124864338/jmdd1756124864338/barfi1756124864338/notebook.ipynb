{
  "cells": [
    {
      "cell_type": "code",
      "execution_count": 1,
      "id": "3c78fdb7-2e35-4f50-b542-5d71217034b9",
      "metadata": {
        "trusted": true
      },
      "outputs": [
        {
          "name": "stdout",
          "output_type": "stream",
          "text": "Hello bharat\n"
        }
      ],
      "source": "print(\"Hello bharat\")"
    },
    {
      "cell_type": "code",
      "execution_count": 2,
      "id": "46ac3229-9dcb-4900-9eaa-878f0bafaeb2",
      "metadata": {
        "trusted": true
      },
      "outputs": [
        {
          "name": "stdout",
          "output_type": "stream",
          "text": "hello vicky\n"
        }
      ],
      "source": "print(\"hello vicky\")"
    },
    {
      "cell_type": "code",
      "execution_count": 5,
      "id": "f3e32eee-728a-4b29-b59e-fbece48e49ac",
      "metadata": {
        "trusted": true
      },
      "outputs": [
        {
          "name": "stdout",
          "output_type": "stream",
          "text": "wooow\n"
        }
      ],
      "source": "print(\"wooow\")"
    },
    {
      "cell_type": "code",
      "execution_count": null,
      "id": "e64c600a-b4db-4745-8ad9-068e162e0d1d",
      "metadata": {
        "trusted": true
      },
      "outputs": [],
      "source": "print(\"team reset\")"
    }
  ],
  "metadata": {
    "kernelspec": {
      "display_name": "Python 3 (ipykernel)",
      "language": "python",
      "name": "python3"
    },
    "language_info": {
      "codemirror_mode": {
        "name": "ipython",
        "version": 3
      },
      "file_extension": ".py",
      "mimetype": "text/x-python",
      "name": "python",
      "nbconvert_exporter": "python",
      "pygments_lexer": "ipython3",
      "version": "3.9.23"
    }
  },
  "nbformat": 4,
  "nbformat_minor": 5
}