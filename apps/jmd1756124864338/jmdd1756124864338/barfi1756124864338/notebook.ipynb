{
 "cells": [
  {
   "cell_type": "code",
   "execution_count": 1,
   "id": "3c78fdb7-2e35-4f50-b542-5d71217034b9",
   "metadata": {
    "execution": {
     "iopub.execute_input": "2025-08-25T12:38:20.390138Z",
     "iopub.status.busy": "2025-08-25T12:38:20.389727Z",
     "iopub.status.idle": "2025-08-25T12:38:20.395674Z",
     "shell.execute_reply": "2025-08-25T12:38:20.394641Z"
    }
   },
   "outputs": [
    {
     "name": "stdout",
     "output_type": "stream",
     "text": [
      "Hello bharat\n"
     ]
    }
   ],
   "source": [
    "print(\"Hello bharat\")"
   ]
  }
 ],
 "metadata": {
  "kernelspec": {
   "display_name": "Python 3 (ipykernel)",
   "language": "python",
   "name": "python3"
  },
  "language_info": {
   "codemirror_mode": {
    "name": "ipython",
    "version": 3
   },
   "file_extension": ".py",
   "mimetype": "text/x-python",
   "name": "python",
   "nbconvert_exporter": "python",
   "pygments_lexer": "ipython3",
   "version": "3.12.3"
  }
 },
 "nbformat": 4,
 "nbformat_minor": 5
}
