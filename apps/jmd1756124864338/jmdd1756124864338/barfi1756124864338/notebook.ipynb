{
  "cells": [
    {
      "cell_type": "code",
      "execution_count": 1,
      "id": "3c78fdb7-2e35-4f50-b542-5d71217034b9",
      "metadata": {
        "trusted": true
      },
      "outputs": [
        {
          "name": "stdout",
          "output_type": "stream",
          "text": "Hello bharat\n"
        }
      ],
      "source": "print(\"Hello bharat\")"
    },
    {
      "cell_type": "code",
      "execution_count": null,
      "id": "46ac3229-9dcb-4900-9eaa-878f0bafaeb2",
      "metadata": {
        "trusted": true
      },
      "outputs": [],
      "source": "print(\"hello vicky\")"
    }
  ],
  "metadata": {
    "kernelspec": {
      "display_name": "Python 3 (ipykernel)",
      "language": "python",
      "name": "python3"
    },
    "language_info": {
      "codemirror_mode": {
        "name": "ipython",
        "version": 3
      },
      "file_extension": ".py",
      "mimetype": "text/x-python",
      "name": "python",
      "nbconvert_exporter": "python",
      "pygments_lexer": "ipython3",
      "version": "3.9.23"
    }
  },
  "nbformat": 4,
  "nbformat_minor": 5
}