{
  "cells": [
    {
      "cell_type": "code",
      "execution_count": null,
      "id": "3c78fdb7-2e35-4f50-b542-5d71217034b9",
      "metadata": {
        "trusted": true
      },
      "outputs": [],
      "source": "print(\"Hello bharat\")"
    }
  ],
  "metadata": {
    "kernelspec": {
      "display_name": "Python 3 (ipykernel)",
      "language": "python",
      "name": "python3"
    },
    "language_info": {
      "name": "python"
    }
  },
  "nbformat": 4,
  "nbformat_minor": 5
}