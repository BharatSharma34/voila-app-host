{
  "cells": [
    {
      "cell_type": "code",
      "execution_count": null,
      "id": "084f7b3f-cd52-49b3-8850-f0d17c5b7d75",
      "metadata": {
        "trusted": true
      },
      "outputs": [],
      "source": "print(\"hello\")"
    }
  ],
  "metadata": {
    "kernelspec": {
      "display_name": "Python 3 (ipykernel)",
      "language": "python",
      "name": "python3"
    },
    "language_info": {
      "name": "python"
    }
  },
  "nbformat": 4,
  "nbformat_minor": 5
}