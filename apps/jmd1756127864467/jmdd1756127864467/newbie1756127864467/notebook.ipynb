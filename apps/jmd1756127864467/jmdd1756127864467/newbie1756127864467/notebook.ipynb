{
  "cells": [
    {
      "cell_type": "code",
      "execution_count": null,
      "id": "5cfd23aa-69fc-4738-865a-5a1f5631c38a",
      "metadata": {
        "trusted": true
      },
      "outputs": [],
      "source": "print(\"bharat\")"
    },
    {
      "cell_type": "code",
      "execution_count": null,
      "id": "30388ff4-6040-479e-9bc0-30609dfdbfeb",
      "metadata": {
        "trusted": true
      },
      "outputs": [],
      "source": "print(\"Working fine\")"
    },
    {
      "cell_type": "code",
      "execution_count": null,
      "id": "2ee4ea2e-9d5c-4bd7-9dc9-009b12b22b4a",
      "metadata": {
        "trusted": true
      },
      "outputs": [],
      "source": ""
    }
  ],
  "metadata": {
    "kernelspec": {
      "display_name": "Python 3 (ipykernel)",
      "language": "python",
      "name": "python3"
    },
    "language_info": {
      "codemirror_mode": {
        "name": "ipython",
        "version": 3
      },
      "file_extension": ".py",
      "mimetype": "text/x-python",
      "name": "python",
      "nbconvert_exporter": "python",
      "pygments_lexer": "ipython3",
      "version": "3.9.23"
    }
  },
  "nbformat": 4,
  "nbformat_minor": 5
}