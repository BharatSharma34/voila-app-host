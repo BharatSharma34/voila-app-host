{
  "cells": [
    {
      "cell_type": "code",
      "execution_count": null,
      "id": "63c0b8fc-aef3-44f5-a08b-9649021bfc22",
      "metadata": {
        "trusted": true
      },
      "outputs": [],
      "source": "print(\"hello\")"
    },
    {
      "cell_type": "code",
      "execution_count": null,
      "id": "78e267a4-a3d9-484b-a5ef-22e2d8c6f262",
      "metadata": {
        "trusted": true
      },
      "outputs": [],
      "source": "print(\"working\")"
    }
  ],
  "metadata": {
    "kernelspec": {
      "display_name": "Python 3 (ipykernel)",
      "language": "python",
      "name": "python3"
    },
    "language_info": {
      "codemirror_mode": {
        "name": "ipython",
        "version": 3
      },
      "file_extension": ".py",
      "mimetype": "text/x-python",
      "name": "python",
      "nbconvert_exporter": "python",
      "pygments_lexer": "ipython3",
      "version": "3.9.23"
    }
  },
  "nbformat": 4,
  "nbformat_minor": 5
}