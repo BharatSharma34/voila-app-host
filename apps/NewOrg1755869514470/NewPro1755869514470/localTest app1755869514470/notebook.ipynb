{
  "cells": [
    {
      "cell_type": "code",
      "execution_count": null,
      "id": "33b2e502-9983-4416-a52f-fe27e42509d7",
      "metadata": {
        "trusted": true
      },
      "outputs": [],
      "source": "print(\"Test app\")"
    }
  ],
  "metadata": {
    "kernelspec": {
      "display_name": "Python 3 (ipykernel)",
      "language": "python",
      "name": "python3"
    },
    "language_info": {
      "name": "python"
    }
  },
  "nbformat": 4,
  "nbformat_minor": 5
}