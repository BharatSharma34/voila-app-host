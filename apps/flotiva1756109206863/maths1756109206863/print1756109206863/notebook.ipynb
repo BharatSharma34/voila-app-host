{
  "cells": [
    {
      "cell_type": "code",
      "execution_count": null,
      "id": "14669400-0a13-47cd-b6ec-5154bf3a88e0",
      "metadata": {
        "trusted": true
      },
      "outputs": [],
      "source": "print(\"helo\")"
    },
    {
      "cell_type": "code",
      "execution_count": null,
      "id": "341db2d7-c821-442c-a234-3e84545b147a",
      "metadata": {
        "trusted": true
      },
      "outputs": [],
      "source": "print(\"world\n      "
    }
  ],
  "metadata": {
    "kernelspec": {
      "display_name": "Python 3 (ipykernel)",
      "language": "python",
      "name": "python3"
    },
    "language_info": {
      "codemirror_mode": {
        "name": "ipython",
        "version": 3
      },
      "file_extension": ".py",
      "mimetype": "text/x-python",
      "name": "python",
      "nbconvert_exporter": "python",
      "pygments_lexer": "ipython3",
      "version": "3.9.23"
    }
  },
  "nbformat": 4,
  "nbformat_minor": 5
}