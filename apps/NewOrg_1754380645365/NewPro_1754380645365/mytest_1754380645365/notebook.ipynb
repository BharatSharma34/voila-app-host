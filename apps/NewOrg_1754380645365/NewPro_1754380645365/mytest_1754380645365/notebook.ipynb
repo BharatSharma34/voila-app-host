{
  "cells": [
    {
      "cell_type": "code",
      "execution_count": 2,
      "id": "7191acb0-dc70-4afc-b2b2-520e8aa8eef7",
      "metadata": {
        "trusted": true
      },
      "outputs": [
        {
          "name": "stdout",
          "output_type": "stream",
          "text": "map tool new code..\n"
        }
      ],
      "source": "print(\"map tool new code..\")"
    },
    {
      "cell_type": "code",
      "execution_count": null,
      "id": "6d3d5033-1c9d-4f30-8af7-5d8a41efe542",
      "metadata": {
        "trusted": true
      },
      "outputs": [],
      "source": ""
    }
  ],
  "metadata": {
    "kernelspec": {
      "display_name": "Python 3 (ipykernel)",
      "language": "python",
      "name": "python3"
    },
    "language_info": {
      "codemirror_mode": {
        "name": "ipython",
        "version": 3
      },
      "file_extension": ".py",
      "mimetype": "text/x-python",
      "name": "python",
      "nbconvert_exporter": "python",
      "pygments_lexer": "ipython3",
      "version": "3.9.23"
    }
  },
  "nbformat": 4,
  "nbformat_minor": 5
}