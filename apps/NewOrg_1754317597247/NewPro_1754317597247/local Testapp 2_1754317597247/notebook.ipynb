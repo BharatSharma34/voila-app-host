{
  "cells": [
    {
      "cell_type": "code",
      "execution_count": null,
      "id": "fc428ab4-0f7b-4610-999c-69800b342320",
      "metadata": {
        "trusted": true
      },
      "outputs": [],
      "source": "print(\"Made this app\")"
    }
  ],
  "metadata": {
    "kernelspec": {
      "display_name": "Python 3 (ipykernel)",
      "language": "python",
      "name": "python3"
    },
    "language_info": {
      "codemirror_mode": {
        "name": "ipython",
        "version": 3
      },
      "file_extension": ".py",
      "mimetype": "text/x-python",
      "name": "python",
      "nbconvert_exporter": "python",
      "pygments_lexer": "ipython3",
      "version": "3.9.23"
    }
  },
  "nbformat": 4,
  "nbformat_minor": 5
}