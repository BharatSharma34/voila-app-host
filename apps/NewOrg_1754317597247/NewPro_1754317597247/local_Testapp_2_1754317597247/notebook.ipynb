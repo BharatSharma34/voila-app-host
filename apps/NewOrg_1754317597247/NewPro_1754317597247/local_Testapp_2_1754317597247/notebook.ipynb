{
  "cells": [
    {
      "cell_type": "code",
      "execution_count": null,
      "id": "fc428ab4-0f7b-4610-999c-69800b342320",
      "metadata": {
        "trusted": true
      },
      "outputs": [],
      "source": "print(\"Made this app\")"
    }
  ],
  "metadata": {
    "kernelspec": {
      "display_name": "Python 3 (ipykernel)",
      "language": "python",
      "name": "python3"
    },
    "language_info": {
      "name": "python"
    }
  },
  "nbformat": 4,
  "nbformat_minor": 5
}